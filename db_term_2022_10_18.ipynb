{
 "cells": [
  {
   "cell_type": "markdown",
   "id": "aaae298c",
   "metadata": {},
   "source": [
    "# 📚 데이터베이스 및 실습 4-2학기 중간고사 범위용어 정리(22.10.18)"
   ]
  },
  {
   "cell_type": "markdown",
   "id": "bf041409",
   "metadata": {},
   "source": [
    "* #### 용어 정리\n",
    "<br>\n",
    "<br>\n",
    "<br><span style = \"background-color:#FFFD91; color:#FE5B05;\">! 아래 용어 설명 중 등호로 서로 동치임을 보였지만 모두 완벽한 동치는 아닌 을 기억하자.</span>\n"
   ]
  },
  {
   "cell_type": "markdown",
   "id": "9844fb6e",
   "metadata": {},
   "source": [
    "**1. 릴레이션(Relation)=테이블(Table)=표=Entity**\n",
    "<br><br>\n",
    "모두 완전히 동치라고는 할 수 없다. 추상적으로 같은 용어로 이해하자.\n",
    "<br>\n",
    "정확히 하자면 릴레이션은 student( 학번, 이름, 주소…) 같은 형태의 데이터 집합,\n",
    "<br>\n",
    "테이블은 표같이 생긴 데이터 집합,\n",
    "<br>\n",
    "엔티티는 트리 같은 형태의 데이터 집합이라고 생각하자.\n"
   ]
  },
  {
   "cell_type": "markdown",
   "id": "fbb146e6",
   "metadata": {},
   "source": [
    "**2. 속성(Attribute)=필드(Field)=열(Column)**\n",
    "<br><br>\n"
   ]
  },
  {
   "cell_type": "markdown",
   "id": "936a636f",
   "metadata": {},
   "source": [
    "**3. 필드(Field) = 열(Column)**\n",
    "<br><br>\n",
    "필드는 엑셀에서 열에 해당하는 가장 작은 단위의 데이터이다. 이 필드는 엔티티의 속성을 표현한다.\n",
    "<br>(지금 단계에서는 엔티티를 테이블이라고 생각하면 된다. 추상적으로 객체같은 개념이라고 이해하고 넘어가자.)\n"
   ]
  },
  {
   "cell_type": "markdown",
   "id": "24c1d30a",
   "metadata": {},
   "source": [
    "**4. 차수(degree)**\n",
    "<br><br>\n",
    "릴레이션에 들어가 있는 속성의 수를 말한다. Cellar file 테이블의 차수는 6이다."
   ]
  },
  {
   "cell_type": "markdown",
   "id": "741161e7",
   "metadata": {},
   "source": [
    "**5. 튜플(Tuple)=레코드(Record)=행(Row)**"
   ]
  },
  {
   "cell_type": "markdown",
   "id": "01dfa4b7",
   "metadata": {},
   "source": [
    "**6. 카디날리티(Cardinality)**\n",
    "<br><br>\n",
    "카디날리티란 릴레이션의 튜플의 개수이다. Cellar file 테이블의 카디날리티는16이다.\n"
   ]
  },
  {
   "cell_type": "markdown",
   "id": "611ff103",
   "metadata": {},
   "source": [
    "**7. 도메인(domain)**\n",
    "<br><br>\n",
    " 도메인이란 릴레이션에 포함된 각 속성의 원자값들의 집합이다.\n",
    "예를 들어 성별이라는 속성이 있는 테이블의 경우, ‘남’과 ‘여’, 이렇게 두 개의 값만을 가질 수 있다. <br>db설계자는 성별의 도메인으로 ‘SEX’를 정의하고, 그 값으로 ‘남’, ‘여’로 지정한 뒤 성별이라는 속성은 ‘SEX’ 도메인에 있는 값만을 가질 수 있다고 지정해 놓으면 사용자들이 다른 값을 넣는 것을 방지할 수 있다.\n"
   ]
  },
  {
   "cell_type": "markdown",
   "id": "641a822e",
   "metadata": {},
   "source": [
    "**8. 스키마(Schema)**\n",
    "<br><br>\n",
    "<span style=\"color: red\">데이터베이스의 구조와 제약조건에 관해 전반적인 명세를 기술한 것</span>이다.\n",
    "<br>상세하게 말하면, \n",
    "<br>개체의 특성을 나타내는 <span style=\"color: red\">속성(Attribute)</span>과 \n",
    "<br>속성들의 집합으로 이루어진 <span style=\"color: red\">개체(Entity)</span>\n",
    "<br>이들이 유지해야 할 <span style=\"color: red\">제약조건</span>들을 기술한 것이다.\n",
    "<br>\n",
    "쉽게 정리하면, DB내에 어떤 구조로 데이터가 저장되는가를 나타내는 데이터베이스 구조를 스키마라고 한다.\n",
    "<br>\n",
    "또한, 스키마는 데이터 사전(Data Dictionary)에 저장된다.\n",
    "<br>\n",
    "##### ※데이터 사전 : 시스템 전체에서 나타나는 <span style=\"color: red\">데이터 항목들에 대한 정보를 지정한 중앙 저장소</span>로, 이 정보에는 항목을 참조하는데 사용되는 식별자, 항목에 대한 엔티티의 구성요소, 항목이 저장되는 곳, 항목을 참조하는 곳 등을 포함\n",
    "<br>\n",
    "<br>\n",
    "\n",
    "**-외부스키마** : 사용자나 개발자의 관점에서 필요로 하는 데이터베이스의 논리적 구조, 사용자 뷰를 나타냄, 서브 스키마로 불림\n",
    "<br>\n",
    "\n",
    "**-개념스키마** : 한 조직의 DB를 전체적인 입장에서 보는 것, 데이터베이스의 전체적인 논리적 구조, 전체적인 뷰를 나타냄, 개체 간의 관계, 제약조건, 접근 권한, 무결성, 보안에 대해 정의\n",
    "<br>\n",
    "\n",
    "**-내부스키마** : 물리적 저장 장치의 관점에서 보는 데이터베이스 구조, 실제로 데이터베이스에 저장될 레코드의 형식을 정의하고 저장 데이터 항목의 표현 방법, 내부 레코드의 물리적 순서 등을 표현\n"
   ]
  },
  {
   "cell_type": "markdown",
   "id": "99476864",
   "metadata": {},
   "source": [
    "**9. 시스템 카탈로그(System Catalog)**\n",
    "<br>\n",
    "- 시스템 카탈로그는 데이터베이스 관리자의 도구로, 데이터베이스에 저장되어 있는 모든 데이터 개체들에 대한 정의나 명세에 대한 정보가 수록되어 있는 시스템 테이블이다.\n",
    "- 시스템 카탈로그를 데이터 사전(Data Dictionary) 라고도 한다.\n",
    "- 시스템 카탈로그에는 DDL의 결과로 구성되는 기본 릴레이션, 인덱스, 뷰, 사용자, 접근 권한 등의 데이터베이스 구조 및 통계 정보가 저장된다.\n",
    "- 시스템 카탈로그에 저장된 내용을 메타데이터라고 한다.\n",
    "- 시스템 카탈로그는 사용자와 데이터베이스 관리 시스템의 접근이 가능하다.\n"
   ]
  },
  {
   "cell_type": "markdown",
   "id": "aacc916d",
   "metadata": {},
   "source": [
    "**10. Query란?**\n",
    "<br><br>\n",
    "쿼리(Query)란 쉽게 이야기해서 데이터베이스에 정보를 요청하는 것이다. \n",
    "쿼리(Query)를 바로 번역을 하면 <span style=\"color: red\">'질의'</span>라고 해석이 된다.\n",
    "DB서버가 구동이 되고 있는 환경에서(Oracle, Cubrid, MsServer, MySQL, Tibero, Altibase 등) DB에 대해 명령문을 작업하게 되는데 이 때의 명령문을 쿼리(Query)라고 생각하면 된다.\n"
   ]
  },
  {
   "cell_type": "markdown",
   "id": "906eac67",
   "metadata": {},
   "source": [
    "**11. 트랜잭션(Transaction)**\n",
    "<br><br>\n",
    "인가받지 않은 사용자로부터 데이터를 보장하기 위해 DBMS 가 가져야 하는 특성이자, <span style=\"color: red\">데이터베이스 시스템에서 하나의 논리적 기능을 정상적으로 수행하기 위한 작업의 기본 단위</span>\n"
   ]
  },
  {
   "cell_type": "markdown",
   "id": "78171e8f",
   "metadata": {},
   "source": [
    "**12. DBMS란?**\n",
    "<br><br>\n",
    "데이터베이스에 대한 모든 접근(access)을 처리하는 소프트웨어\n",
    "사용자는 SQL과 같은 특수한 언어를 통해 접근을 요구하고 DBMS가 이 요구를 받아서 분석하며 사용자의 외부 스키마를 검토한다.\n"
   ]
  },
  {
   "cell_type": "markdown",
   "id": "af42667a",
   "metadata": {},
   "source": [
    "**13. RDBMS(Relational DBMS)**\n",
    "<br><br>\n",
    "RDBMS 란 관계형 데이터베이스 관리 시스템으로 관계형 모델을 기반으로 하는 DBMS 유형이다.\n",
    "<br>\n",
    "\n",
    "**※ 특징**\n",
    "- 모든 데이터를 2차원 테이블로 표현\n",
    "- 테이블은 row(record, tuple)과 column(field, item)으로 이루어진 기본 데이터 저장 단위\n",
    "- 상호관련성을 가진 테이블(table)의 집합\n",
    "- 만들거나 이용하기도 비교적 쉽지만, 무엇보다도 확장이 용이하다는 장점을 가짐\n",
    "- 데이터베이스의 설계도를 ER(Entity Relationship) 모델\n",
    "- ER모델에 따라, 데이터베이스가 만들어지며, 데이터베이스는 하나 이상의 테이블로 구성 됨. ER모델에서 엔티티를 기반으로 테이블이 만들어짐\n"
   ]
  }
 ],
 "metadata": {
  "kernelspec": {
   "display_name": "Python 3 (ipykernel)",
   "language": "python",
   "name": "python3"
  },
  "language_info": {
   "codemirror_mode": {
    "name": "ipython",
    "version": 3
   },
   "file_extension": ".py",
   "mimetype": "text/x-python",
   "name": "python",
   "nbconvert_exporter": "python",
   "pygments_lexer": "ipython3",
   "version": "3.9.11"
  }
 },
 "nbformat": 4,
 "nbformat_minor": 5
}
