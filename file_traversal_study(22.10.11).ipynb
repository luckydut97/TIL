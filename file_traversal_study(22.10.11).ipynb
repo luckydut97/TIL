{
 "cells": [
  {
   "cell_type": "markdown",
   "id": "90d85c91",
   "metadata": {},
   "source": [
    "# 📚File Traversal (Python) 공부 내용 정리"
   ]
  },
  {
   "cell_type": "markdown",
   "id": "d507c065",
   "metadata": {},
   "source": [
    "## 파일순회코드\n",
    "```python\n",
    "import os\n",
    "for folder_name, subfolders, filenames in os.walk('.\\\\test'):\n",
    "    print('\\n')\n",
    "    print('directory : ' + folder_name)\n",
    "    for subfolder in subfolders:\n",
    "        print('directory : '+folder_name + ': '+ subfolder)\n",
    "\n",
    "    for filename in filenames:\n",
    "        print('filename : ' + folder_name + ': ' + filename)\n",
    "```\n",
    "\n",
    "<br>\n",
    "테스트 폴더를 순회해보겠습니다. 트리 구조는 다음과 같습니다. \n",
    "<br>\n",
    "<br>\n",
    "├─A\n",
    "<br>\n",
    "│  ├─1\n",
    "<br>\n",
    "│  │      League of Legends.lnk\n",
    "<br>\n",
    "│  │\n",
    "<br>\n",
    "│  ├─2\n",
    "<br>\n",
    "│  └─3\n",
    "<br>\n",
    "├─B\n",
    "<br>\n",
    "│  ├─1\n",
    "<br>\n",
    "│  ├─2\n",
    "<br>\n",
    "│  └─3\n",
    "<br>\n",
    "└─C\n",
    "<br>\n",
    "    ├─1\n",
    "<br>\n",
    "    ├─2\n",
    "<br>\n",
    "    └─3\n",
    "<br>\n",
    "\n",
    "<br>\n",
    "코드 실행 결과입니다. test의 하위 디렉토리에 있는 League Of Legend 파일을 잘 출력하는 모습을 볼 수 있습니다.\n",
    "<br>\n",
    "<br>\n",
    "directory : .\\test\\A\n",
    "<br>\n",
    "directory : .\\test\\A: 1\n",
    "<br>\n",
    "directory : .\\test\\A: 2\n",
    "<br>\n",
    "directory : .\\test\\A: 3\n",
    "<br>\n",
    "\n",
    "\n",
    "directory : .\\test\\A\\1\n",
    "<br>\n",
    "\n",
    "\n",
    "filename : .\\test\\A\\1: League of Legends.lnk"
   ]
  },
  {
   "cell_type": "markdown",
   "id": "a9296176",
   "metadata": {},
   "source": []
  }
 ],
 "metadata": {
  "kernelspec": {
   "display_name": "Python 3 (ipykernel)",
   "language": "python",
   "name": "python3"
  },
  "language_info": {
   "codemirror_mode": {
    "name": "ipython",
    "version": 3
   },
   "file_extension": ".py",
   "mimetype": "text/x-python",
   "name": "python",
   "nbconvert_exporter": "python",
   "pygments_lexer": "ipython3",
   "version": "3.9.11"
  }
 },
 "nbformat": 4,
 "nbformat_minor": 5
}
