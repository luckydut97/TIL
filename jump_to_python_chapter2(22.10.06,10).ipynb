{
 "cells": [
  {
   "cell_type": "markdown",
   "id": "a689e293",
   "metadata": {},
   "source": [
    "# 📚2주차 파이썬 스터디 2장 전체 (10.06+10.10) \n"
   ]
  },
  {
   "cell_type": "markdown",
   "id": "b689b125",
   "metadata": {},
   "source": [
    "### 복습\n",
    "* #### 리스트(list)\n",
    "<br>요소를 삭제하거나 변경할 수 있다. 이러한 특성을 **mutable**(가변성) 이라고 표현한다.  리스트는 append, remove 메소드로 요소들을 추가 및 삭제가 가능하다.\n",
    "<br>또한, 다른 type의 데이터들을 담을 수 있다. \n",
    "<br>*대괄호로 선언*\n",
    "<br>ex) list_a = [‘a’,1,2]\n",
    "<br>\n",
    "* #### 튜플(tuple)\n",
    "<br>요소를 삭제하거나 변경할 수 없다. 이러한 특성을 **immutable**(불변성)이라고 표현한다.\n",
    "<br>리스트처럼 append, remove 메소드가 존재하지 않지만, 튜플+튜플로 append, remove기능을 억지로 구현할 수 있긴 하다.\n",
    "<br>*소괄호로 선언*\n",
    "<br>\n",
    "* #### 집합(set)\n",
    "<br>순서가 없는 중복 불가능한 collection 자료형이다. 인덱싱은 불가하다.\n",
    "<br>선언 방법 : 중괄호 {}, set 생성자 사용\n",
    "<br>**자주 쓰이는 상황** : 주로 코딩테스트에서 어떤 값이 선언한 set(집합)에 존재 하는지 하지 않는지 확인한다.\n",
    "```python\n",
    "a=set([“a”,”b”,”c”]\n",
    "print(“d” in a)\n",
    "> False\n",
    "```\n",
    "<br>\n",
    "* #### 딕셔너리(dict)\n",
    "<br>key를 통해 value를 얻는다. \n",
    "<br>선언 방법: \n",
    "```Python\n",
    "a = { 1: ‘hi’ }, a = { ‘a’ : [1,2,3]} \n",
    "```\n"
   ]
  },
  {
   "cell_type": "markdown",
   "id": "02f57353",
   "metadata": {},
   "source": [
    "### Markdown 참고\n",
    "```\n",
    "# Markdown Study\n",
    "##more\n",
    "###more\n",
    "\n",
    "####more\n",
    "\n",
    "it is *italic*\n",
    "it is **bold**\n",
    "it is ~~cancelled~~\n",
    "\n",
    "###Blockquotes\n",
    "\n",
    ">인용문\n",
    ">>인용문 안의 인용문\n",
    ">>>하하하\n",
    "\n",
    "###List\n",
    "\n",
    "* Shopping List\n",
    "  * milk\n",
    "\n",
    "*How to make a cup of tea\n",
    "  1. pour hot water\n",
    "\n",
    "###CodeBlock\n",
    "\n",
    "```python\n",
    "print(3)\n",
    "```"
   ]
  },
  {
   "cell_type": "code",
   "execution_count": 8,
   "id": "a16eaff2",
   "metadata": {},
   "outputs": [
    {
     "name": "stdout",
     "output_type": "stream",
     "text": [
      "택시를 타고 가라\n"
     ]
    }
   ],
   "source": [
    "money = True\n",
    "if money :\n",
    "    print(\"택시를 타고 가라\")\n",
    "else:\n",
    "    print(\"걸어가라\")"
   ]
  },
  {
   "cell_type": "code",
   "execution_count": 10,
   "id": "06397ca2",
   "metadata": {},
   "outputs": [
    {
     "name": "stdout",
     "output_type": "stream",
     "text": [
      "나무를 1번 찍었습니다.\n",
      "나무를 2번 찍었습니다.\n",
      "나무를 3번 찍었습니다.\n",
      "나무를 4번 찍었습니다.\n",
      "나무를 5번 찍었습니다.\n",
      "나무를 6번 찍었습니다.\n",
      "나무를 7번 찍었습니다.\n",
      "나무를 8번 찍었습니다.\n",
      "나무를 9번 찍었습니다.\n",
      "나무를 10번 찍었습니다.\n",
      "나무 넘어갑니다.\n"
     ]
    }
   ],
   "source": [
    "treeHit = 0\n",
    "while treeHit < 10:\n",
    "    treeHit = treeHit+1\n",
    "    print(\"나무를 %d번 찍었습니다.\" % treeHit)\n",
    "    if treeHit == 10:\n",
    "        print(\"나무 넘어갑니다.\")"
   ]
  },
  {
   "cell_type": "code",
   "execution_count": 20,
   "id": "6eb96707",
   "metadata": {},
   "outputs": [
    {
     "name": "stdout",
     "output_type": "stream",
     "text": [
      "{'name': 'Sangbeom Ha', 'phone': '01071564863', 'birth': '0912'}\n"
     ]
    }
   ],
   "source": [
    "dic = {'name':'Sangbeom Ha', 'phone':'01071564863', 'birth' : '0912'}\n",
    "print(dic)"
   ]
  },
  {
   "cell_type": "markdown",
   "id": "87b2db41",
   "metadata": {},
   "source": [
    "### 2.5\n",
    "<br> \n",
    "#### 딕셔너리 key로 value값 얻기"
   ]
  },
  {
   "cell_type": "code",
   "execution_count": 24,
   "id": "16ec7249",
   "metadata": {},
   "outputs": [
    {
     "data": {
      "text/plain": [
       "10"
      ]
     },
     "execution_count": 24,
     "metadata": {},
     "output_type": "execute_result"
    }
   ],
   "source": [
    "grade = {'pey':10, 'julliet' : 99}\n",
    "grade['pey']"
   ]
  },
  {
   "cell_type": "code",
   "execution_count": 16,
   "id": "9536575d",
   "metadata": {},
   "outputs": [
    {
     "data": {
      "text/plain": [
       "99"
      ]
     },
     "execution_count": 16,
     "metadata": {},
     "output_type": "execute_result"
    }
   ],
   "source": [
    "grade['julliet']"
   ]
  },
  {
   "cell_type": "code",
   "execution_count": 31,
   "id": "6050e140",
   "metadata": {},
   "outputs": [
    {
     "data": {
      "text/plain": [
       "'a'"
      ]
     },
     "execution_count": 31,
     "metadata": {},
     "output_type": "execute_result"
    }
   ],
   "source": [
    "a_1={1:'a', 2:'b'}\n",
    "a_1[1]"
   ]
  },
  {
   "cell_type": "markdown",
   "id": "7218acbd",
   "metadata": {},
   "source": [
    "##### 딕셔너리 만들 때 주의할 사항! \n",
    "<br> Key는 고유한 값이므로 중복되는 Key 값을 설정해 놓으면 하나를 제외한 나머지 것들이 모두 무시된다.\n",
    "<br> Value에 리스트를 쓸 수 있어도, Key에는 리스트를 쓸 순 없다. "
   ]
  },
  {
   "cell_type": "markdown",
   "id": "db695279",
   "metadata": {},
   "source": [
    "#### keys() 함수"
   ]
  },
  {
   "cell_type": "code",
   "execution_count": 33,
   "id": "33089115",
   "metadata": {},
   "outputs": [
    {
     "name": "stdout",
     "output_type": "stream",
     "text": [
      "dict_keys(['name', 'birth', 'phone'])\n"
     ]
    },
    {
     "data": {
      "text/plain": [
       "['name', 'birth', 'phone']"
      ]
     },
     "execution_count": 33,
     "metadata": {},
     "output_type": "execute_result"
    }
   ],
   "source": [
    "a={'name':'sangbeom', 'birth':'0912', 'phone':'01071564863'}\n",
    "print(a.keys())\n",
    "list(a.keys())"
   ]
  },
  {
   "cell_type": "markdown",
   "id": "1010d146",
   "metadata": {},
   "source": [
    "#### Value() 함수"
   ]
  },
  {
   "cell_type": "code",
   "execution_count": 28,
   "id": "cef0df35",
   "metadata": {},
   "outputs": [
    {
     "data": {
      "text/plain": [
       "dict_items([('name', 'sangbeom'), ('birth', '0912'), ('phone', '01071564863')])"
      ]
     },
     "execution_count": 28,
     "metadata": {},
     "output_type": "execute_result"
    }
   ],
   "source": [
    "a.items()"
   ]
  },
  {
   "cell_type": "code",
   "execution_count": 29,
   "id": "292baa21",
   "metadata": {},
   "outputs": [
    {
     "data": {
      "text/plain": [
       "{}"
      ]
     },
     "execution_count": 29,
     "metadata": {},
     "output_type": "execute_result"
    }
   ],
   "source": [
    "a.clear()\n",
    "a"
   ]
  },
  {
   "cell_type": "markdown",
   "id": "f7c7fb39",
   "metadata": {},
   "source": [
    "#### 키가 딕셔너리 안에 있는지 조사하기(in 활용)"
   ]
  },
  {
   "cell_type": "code",
   "execution_count": 38,
   "id": "6dbccdfd",
   "metadata": {},
   "outputs": [
    {
     "data": {
      "text/plain": [
       "False"
      ]
     },
     "execution_count": 38,
     "metadata": {},
     "output_type": "execute_result"
    }
   ],
   "source": [
    "'name' in a"
   ]
  },
  {
   "cell_type": "markdown",
   "id": "d653cdba",
   "metadata": {},
   "source": [
    "# 📚여기까지 10.06 학습, 밑에 내용 10.10 학습"
   ]
  },
  {
   "cell_type": "code",
   "execution_count": 35,
   "id": "14c73d63",
   "metadata": {},
   "outputs": [
    {
     "data": {
      "text/plain": [
       "False"
      ]
     },
     "execution_count": 35,
     "metadata": {},
     "output_type": "execute_result"
    }
   ],
   "source": [
    "'email' in a"
   ]
  },
  {
   "cell_type": "code",
   "execution_count": 1,
   "id": "76078c7d",
   "metadata": {},
   "outputs": [
    {
     "data": {
      "text/plain": [
       "2899658696384"
      ]
     },
     "execution_count": 1,
     "metadata": {},
     "output_type": "execute_result"
    }
   ],
   "source": [
    "a=[1,2,3]\n",
    "id(a)"
   ]
  },
  {
   "cell_type": "code",
   "execution_count": 2,
   "id": "fc083b39",
   "metadata": {},
   "outputs": [],
   "source": [
    "a=[1,2,3]\n",
    "b=a"
   ]
  },
  {
   "cell_type": "code",
   "execution_count": 3,
   "id": "2b3456e2",
   "metadata": {},
   "outputs": [
    {
     "data": {
      "text/plain": [
       "2899658693440"
      ]
     },
     "execution_count": 3,
     "metadata": {},
     "output_type": "execute_result"
    }
   ],
   "source": [
    "id(b)\n"
   ]
  },
  {
   "cell_type": "code",
   "execution_count": 4,
   "id": "8d235a7a",
   "metadata": {},
   "outputs": [
    {
     "data": {
      "text/plain": [
       "2899658693440"
      ]
     },
     "execution_count": 4,
     "metadata": {},
     "output_type": "execute_result"
    }
   ],
   "source": [
    "id(a)"
   ]
  },
  {
   "cell_type": "markdown",
   "id": "ee5ddd3c",
   "metadata": {},
   "source": [
    "### 점프 투 파이썬 2장 연습문제"
   ]
  },
  {
   "cell_type": "markdown",
   "id": "229a58f9",
   "metadata": {},
   "source": [
    "### Q1 평균"
   ]
  },
  {
   "cell_type": "code",
   "execution_count": 10,
   "id": "d6047fb9",
   "metadata": {},
   "outputs": [
    {
     "name": "stdout",
     "output_type": "stream",
     "text": [
      "average : 70.0\n"
     ]
    }
   ],
   "source": [
    "# 방법1 for 활용\n",
    "arr=[80,75,55]\n",
    "result=0\n",
    "for val in arr:\n",
    "    result+=val\n",
    "print(f\"average : {result / len(arr)}\")"
   ]
  },
  {
   "cell_type": "code",
   "execution_count": 12,
   "id": "761fdb07",
   "metadata": {},
   "outputs": [
    {
     "name": "stdout",
     "output_type": "stream",
     "text": [
      "average : 70.0\n"
     ]
    }
   ],
   "source": [
    "# 방법2 sum 활용\n",
    "arr=[80,75,55]\n",
    "result= sum(arr)\n",
    "print(f\"average : {result/len(arr)}\")"
   ]
  },
  {
   "cell_type": "code",
   "execution_count": 13,
   "id": "0dfde010",
   "metadata": {},
   "outputs": [
    {
     "name": "stdout",
     "output_type": "stream",
     "text": [
      "average : 70.0\n"
     ]
    }
   ],
   "source": [
    "# 방법3 numpy 활용\n",
    "import numpy\n",
    "arr=[80,75,55]\n",
    "average=numpy.mean(arr)\n",
    "print(f\"average : {average}\")"
   ]
  },
  {
   "cell_type": "code",
   "execution_count": 2,
   "id": "98ad7a64",
   "metadata": {},
   "outputs": [
    {
     "name": "stdout",
     "output_type": "stream",
     "text": [
      "average : 70\n"
     ]
    }
   ],
   "source": [
    "# 방법4 statistics 활용\n",
    "import statistics\n",
    "arr=[80,75,55]\n",
    "result = statistics.mean(arr)\n",
    "print(f\"average : {result}\")"
   ]
  },
  {
   "cell_type": "markdown",
   "id": "c87161ee",
   "metadata": {},
   "source": [
    "### Q2 홀수짝수판별"
   ]
  },
  {
   "cell_type": "code",
   "execution_count": 3,
   "id": "6bc03267",
   "metadata": {},
   "outputs": [
    {
     "name": "stdout",
     "output_type": "stream",
     "text": [
      "n은 홀수\n"
     ]
    }
   ],
   "source": [
    "n=13\n",
    "if n%2==0 :\n",
    "    print(\"n은 짝수\")\n",
    "else :\n",
    "    print(\"n은 홀수\")"
   ]
  },
  {
   "cell_type": "markdown",
   "id": "b9613466",
   "metadata": {},
   "source": [
    "### Q3 슬라이싱과 append, join 활용"
   ]
  },
  {
   "cell_type": "code",
   "execution_count": 14,
   "id": "f7192624",
   "metadata": {},
   "outputs": [
    {
     "name": "stdout",
     "output_type": "stream",
     "text": [
      "19881120\n",
      "1068234\n"
     ]
    }
   ],
   "source": [
    "years = []\n",
    "id_num=\"881120-1068234\"\n",
    "\n",
    "years.append('19')\n",
    "years.append(id_num[0:6])\n",
    "years=\"\".join(years)\n",
    "print(years)\n",
    "print(id_num[7:])"
   ]
  },
  {
   "cell_type": "markdown",
   "id": "a7121d89",
   "metadata": {},
   "source": [
    "### Q5 replace함수 활용"
   ]
  },
  {
   "cell_type": "code",
   "execution_count": 15,
   "id": "a3261325",
   "metadata": {},
   "outputs": [
    {
     "name": "stdout",
     "output_type": "stream",
     "text": [
      "a#b#c#d\n"
     ]
    }
   ],
   "source": [
    "str=\"a:b:c:d\"\n",
    "output=str.replace(\":\",\"#\")\n",
    "print(output)"
   ]
  },
  {
   "cell_type": "markdown",
   "id": "f6a97303",
   "metadata": {},
   "source": [
    "### Q6 sort(), reverse() 활용"
   ]
  },
  {
   "cell_type": "code",
   "execution_count": 16,
   "id": "91b37f79",
   "metadata": {},
   "outputs": [
    {
     "name": "stdout",
     "output_type": "stream",
     "text": [
      "[5, 4, 3, 2, 1]\n"
     ]
    }
   ],
   "source": [
    "list=[1,3,5,4,2]\n",
    "list.sort()\n",
    "list.reverse()\n",
    "print(list)"
   ]
  },
  {
   "cell_type": "markdown",
   "id": "ece5fd8a",
   "metadata": {},
   "source": [
    "### Q7 join 활용"
   ]
  },
  {
   "cell_type": "code",
   "execution_count": 26,
   "id": "b36e2773",
   "metadata": {},
   "outputs": [
    {
     "name": "stdout",
     "output_type": "stream",
     "text": [
      "Life is too short\n"
     ]
    }
   ],
   "source": [
    "list=['Life', 'is', 'too', 'short']\n",
    "result=\" \".join(list)\n",
    "print(result)"
   ]
  },
  {
   "cell_type": "markdown",
   "id": "61469587",
   "metadata": {},
   "source": [
    "### Q8 튜플 값 추가"
   ]
  },
  {
   "cell_type": "markdown",
   "id": "01e1289d",
   "metadata": {},
   "source": [
    "#### 쉼표를 추가해줘야함! 튜플은 immutable 하기 때문에 억지로 mutable하게 바꿔주려면 튜플끼리 추가하는 방법이 있다."
   ]
  },
  {
   "cell_type": "code",
   "execution_count": 29,
   "id": "2ac90e11",
   "metadata": {},
   "outputs": [
    {
     "name": "stdout",
     "output_type": "stream",
     "text": [
      "(1, 2, 3, 4)\n"
     ]
    }
   ],
   "source": [
    "a=(1,2,3)\n",
    "a=a+(4,) \n",
    "print(a)"
   ]
  },
  {
   "cell_type": "markdown",
   "id": "23807494",
   "metadata": {},
   "source": [
    "### Q9 \n",
    "<br>\n",
    "\n",
    "#### 아래 코드가 오류가 발생하는 경우를 고르고, 그 이유를 설명해보자.\n",
    "<br>\n",
    "\n",
    "```python\n",
    "a=dict()\n",
    "a\n",
    "```\n",
    "\n",
    "<br>\n",
    "\n",
    "```python\n",
    "#1\n",
    "a['name'] = 'python'\n",
    "#2\n",
    "a[('a',)] = 'python'\n",
    "#3\n",
    "a[[1]] = 'python'\n",
    "#4\n",
    "a[250] = 'python'\n",
    "```"
   ]
  },
  {
   "cell_type": "markdown",
   "id": "ca6ce024",
   "metadata": {},
   "source": [
    "3번, 딕셔너리의 key로는 mutable value를 사용할 수 없다. [1]은 리스트이므로 변하는 값이다.\n",
    "<br>\n",
    "문자열, 튜플, 숫자는 immutable value이므로 딕셔너리의 key로 사용 가능하다."
   ]
  },
  {
   "cell_type": "markdown",
   "id": "a44f9916",
   "metadata": {},
   "source": [
    "### Q10\n",
    "<br> \n",
    "\n",
    "#### a에서 'B'에 해당되는 값을 추출해 보자.\n",
    "```python\n",
    "a={'A':90, 'B':80, 'C':70}\n",
    "```"
   ]
  },
  {
   "cell_type": "code",
   "execution_count": 35,
   "id": "872ab577",
   "metadata": {},
   "outputs": [
    {
     "name": "stdout",
     "output_type": "stream",
     "text": [
      "80\n"
     ]
    }
   ],
   "source": [
    "a={'A':90, 'B':80, 'C':70}\n",
    "result = a.pop('B')\n",
    "print(result)"
   ]
  },
  {
   "cell_type": "markdown",
   "id": "cbbc3435",
   "metadata": {},
   "source": [
    "<span style = \"background-color:#FFFD91; color:#FE5B05;\">왜 print(a.pop('B'))는 안되는가?</span>"
   ]
  },
  {
   "cell_type": "markdown",
   "id": "a4933f41",
   "metadata": {},
   "source": [
    "### Q11\n",
    "<br> \n",
    "\n",
    "#### a 리스트에서 중복 숫자를 제거해 보자.\n",
    "\n"
   ]
  },
  {
   "cell_type": "code",
   "execution_count": 36,
   "id": "81359526",
   "metadata": {},
   "outputs": [
    {
     "name": "stdout",
     "output_type": "stream",
     "text": [
      "[1, 2, 3, 4, 5]\n"
     ]
    }
   ],
   "source": [
    "a=[1,1,1,2,2,3,3,3,4,4,5]\n",
    "a_set=[]\n",
    "for i in a:\n",
    "    if i not in a_set:\n",
    "        a_set.append(i)\n",
    "print(a_set)"
   ]
  },
  {
   "cell_type": "markdown",
   "id": "0ecfe494",
   "metadata": {},
   "source": [
    "### Q12\n",
    "<br> \n",
    "\n",
    "####  파이썬은 다음처럼 동일한 값에 여러 개의 변수를 선언할 수 있다. 다음과 같이 a, b 변수를 선언한 후 a의 두 번째 요솟값을 변경하면 b값은 어떻게 될까? 그리고 이런 결과가 나오는 이유에 대해 설명해 보자.\n",
    "```python\n",
    "a=b=[1,2,3]\n",
    "a[1] = 4\n",
    "print(b)\n",
    "```"
   ]
  },
  {
   "cell_type": "code",
   "execution_count": 37,
   "id": "1e769297",
   "metadata": {},
   "outputs": [
    {
     "name": "stdout",
     "output_type": "stream",
     "text": [
      "[1, 4, 3]\n"
     ]
    }
   ],
   "source": [
    "a=b=[1,2,3]\n",
    "a[1] = 4\n",
    "print(b)"
   ]
  },
  {
   "cell_type": "markdown",
   "id": "e9ecc581",
   "metadata": {},
   "source": [
    "#### [1, 4, 3]이 출력된다. a와 b 변수는 모두 동일한 [1, 2, 3]이라는 리스트 객체를 가리키고 있기 때문이다.\n",
    "<br>\n",
    "<span style = \"background-color:#FFFD91; color:#FE5B05;\">[1,2,3]을 b에 넣고 b를 a에 넣어서 a만 바뀔줄알았는데..</span>"
   ]
  },
  {
   "cell_type": "code",
   "execution_count": null,
   "id": "1f98ffe9",
   "metadata": {},
   "outputs": [],
   "source": []
  }
 ],
 "metadata": {
  "kernelspec": {
   "display_name": "Python 3 (ipykernel)",
   "language": "python",
   "name": "python3"
  },
  "language_info": {
   "codemirror_mode": {
    "name": "ipython",
    "version": 3
   },
   "file_extension": ".py",
   "mimetype": "text/x-python",
   "name": "python",
   "nbconvert_exporter": "python",
   "pygments_lexer": "ipython3",
   "version": "3.9.11"
  }
 },
 "nbformat": 4,
 "nbformat_minor": 5
}
