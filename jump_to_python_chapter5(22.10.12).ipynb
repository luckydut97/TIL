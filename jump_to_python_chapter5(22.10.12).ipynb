{
 "cells": [
  {
   "cell_type": "markdown",
   "id": "fbd43ad5",
   "metadata": {},
   "source": [
    "# 3주차 파이썬 스터디 과제(10.12)\n",
    "---"
   ]
  },
  {
   "cell_type": "markdown",
   "id": "8dd4bd30",
   "metadata": {},
   "source": [
    "## 5-1 클래스\n",
    "---"
   ]
  },
  {
   "cell_type": "code",
   "execution_count": 4,
   "id": "1b3d53db",
   "metadata": {},
   "outputs": [
    {
     "name": "stdout",
     "output_type": "stream",
     "text": [
      "3\n",
      "7\n"
     ]
    }
   ],
   "source": [
    "result = 0\n",
    "def add(num):\n",
    "    global result\n",
    "    result += num\n",
    "    return result\n",
    "print(add(3))\n",
    "print(add(4))"
   ]
  },
  {
   "cell_type": "code",
   "execution_count": 3,
   "id": "b3c7d861",
   "metadata": {},
   "outputs": [
    {
     "name": "stdout",
     "output_type": "stream",
     "text": [
      "3\n",
      "7\n",
      "3\n",
      "10\n"
     ]
    }
   ],
   "source": [
    "# 2대의 계산기가 필요한 경우 : 그냥 두개 만들면 된다.\n",
    "result1=0\n",
    "result2=0\n",
    "def add1(num):\n",
    "    global result1\n",
    "    result1 += num\n",
    "    return result1\n",
    "\n",
    "def add2(num):\n",
    "    global result2\n",
    "    result2 += num\n",
    "    return result2\n",
    "\n",
    "print(add1(3))\n",
    "print(add1(4))\n",
    "print(add2(3))\n",
    "print(add2(7))"
   ]
  },
  {
   "cell_type": "code",
   "execution_count": 5,
   "id": "9db3f264",
   "metadata": {},
   "outputs": [
    {
     "name": "stdout",
     "output_type": "stream",
     "text": [
      "3\n",
      "7\n",
      "3\n",
      "10\n"
     ]
    }
   ],
   "source": [
    "# 같은 결과, 일단 이해 보류\n",
    "class Calculator:\n",
    "    def __init__(self):\n",
    "        self.result = 0\n",
    "\n",
    "    def add(self, num):\n",
    "        self.result += num\n",
    "        return self.result\n",
    "\n",
    "cal1 = Calculator()\n",
    "cal2 = Calculator()\n",
    "\n",
    "print(cal1.add(3))\n",
    "print(cal1.add(4))\n",
    "print(cal2.add(3))\n",
    "print(cal2.add(7))"
   ]
  },
  {
   "cell_type": "code",
   "execution_count": 6,
   "id": "39855424",
   "metadata": {},
   "outputs": [],
   "source": [
    "class Cookie:\n",
    "    pass"
   ]
  },
  {
   "cell_type": "markdown",
   "id": "37444e4e",
   "metadata": {},
   "source": [
    "#### [객체와 인스턴스의 차이]\n",
    "<br>\n",
    "클래스로 만든 객체를 인스턴스라고도 한다. 그렇다면 객체와 인스턴스의 차이는 무엇일까? 이렇게 생각해 보자.\n",
    "<br>\n",
    "a = Cookie() 이렇게 만든 a는 객체이다. 그리고 a 객체는 Cookie의 인스턴스이다. \n",
    "<br>\n",
    "즉 인스턴스라는 말은 특정 객체(a)가 어떤 클래스(Cookie)의 객체인지를 관계 위주로 설명할 때 사용한다. \n",
    "<br>\n",
    "<span style = \"background-color:#FFFD91; color:#FE5B05;\">\"a는 인스턴스\"보다는 \"a는 객체\"라는 표현이 어울리며 \"a는 Cookie의 객체\"보다는 \"a는 Cookie의 인스턴스\"라는 표현이 훨씬 잘 어울린다.</span>"
   ]
  },
  {
   "cell_type": "markdown",
   "id": "6b250c51",
   "metadata": {},
   "source": [
    "### 사칙연산 클래스 만들기\n",
    "---"
   ]
  },
  {
   "cell_type": "code",
   "execution_count": null,
   "id": "0fed949c",
   "metadata": {},
   "outputs": [],
   "source": [
    "class FourCal:\n",
    "    pass\n",
    "a=FourCal_t()\n",
    "type(a)"
   ]
  },
  {
   "cell_type": "code",
   "execution_count": 21,
   "id": "af07b433",
   "metadata": {},
   "outputs": [],
   "source": [
    "class FourCal:\n",
    "    def setdata(self, first, second):\n",
    "        self.first = first\n",
    "        self.second = second\n",
    "a=FourCal() #객체 a 선언\n",
    "a.setdata(4,2)\n",
    "b=FourCal()\n",
    "b.setdata(3,7)"
   ]
  },
  {
   "cell_type": "markdown",
   "id": "7ef61bc7",
   "metadata": {},
   "source": [
    "setdata 메서드에는 self, first, second 총 3개의 매개변수가 필요한데 실제로는 a.setdata(4, 2)처럼 2개 값만 전달했다. 왜 그럴까?\n",
    "<br>\n",
    "그 이유는 a.setdata(4, 2)처럼 호출하면 setdata 메서드의 첫 번째 매개변수 self에는 setdata메서드를 호출한 객체 a가 자동으로 전달되기 때문이다. \n",
    "<br>\n",
    "<span style = \"background-color:#FFFD91; color:#FE5B05;\">따라서 a.setdata(4,2) 에서 self=a, first는 4, second=2 형식으로 전달된다고 생각하면 된다.</span>"
   ]
  },
  {
   "cell_type": "code",
   "execution_count": 23,
   "id": "64024c4d",
   "metadata": {},
   "outputs": [
    {
     "name": "stdout",
     "output_type": "stream",
     "text": [
      "4\n",
      "3\n"
     ]
    }
   ],
   "source": [
    "print(a.first)\n",
    "print(b.first)"
   ]
  },
  {
   "cell_type": "code",
   "execution_count": 28,
   "id": "e3d28c1d",
   "metadata": {},
   "outputs": [],
   "source": [
    "#더하기 기능 만들기 (빼기, 나누기, 곱하기는 비슷한 맥락이므로 생략)\n",
    "\n",
    "class FourCal:\n",
    "        def setdata(self, first, second):\n",
    "            self.first = first\n",
    "            self.second = second\n",
    "        def add(self):\n",
    "            result = self.first + self.second\n",
    "            return result\n"
   ]
  },
  {
   "cell_type": "code",
   "execution_count": 25,
   "id": "d6dafb34",
   "metadata": {},
   "outputs": [],
   "source": [
    "a = FourCal()\n",
    "a.setdata(4, 2)"
   ]
  },
  {
   "cell_type": "code",
   "execution_count": 26,
   "id": "2f28b507",
   "metadata": {},
   "outputs": [
    {
     "name": "stdout",
     "output_type": "stream",
     "text": [
      "6\n"
     ]
    }
   ],
   "source": [
    "print(a.add())"
   ]
  },
  {
   "cell_type": "markdown",
   "id": "2b541297",
   "metadata": {},
   "source": [
    "### 생성자 (Constructor)\n",
    "---"
   ]
  },
  {
   "cell_type": "code",
   "execution_count": 29,
   "id": "4398e403",
   "metadata": {},
   "outputs": [],
   "source": [
    "def __init__(self, first, second):\n",
    "    self.first = first\n",
    "    self.second = second"
   ]
  },
  {
   "cell_type": "markdown",
   "id": "f6456559",
   "metadata": {},
   "source": [
    "#### __init__ 메서드는 setdata 메서드와 이름만 다르고 모든 게 동일하다. 단 메서드 이름을 __init__으로 했기 때문에 생성자로 인식되어 객체가 생성되는 시점에 자동으로 호출되는 차이가 있다.\n",
    "<br>\n",
    "init 메서드가 있는 경우는 a=FourCal() 만 수행하면 오류가 발생한다.생성자의 매개변수 first와 second에 해당되는 값을 전달하지 않았기 때문이다.\n",
    "<br>\n",
    "a=FourCal(4,2) 이런 형식으로 매개변수의 값을 포함하여 객체를 생성해야 한다."
   ]
  },
  {
   "cell_type": "markdown",
   "id": "69494ac6",
   "metadata": {},
   "source": [
    "### 클래스의 상속\n",
    "---\n",
    "<br>"
   ]
  },
  {
   "cell_type": "code",
   "execution_count": 38,
   "id": "f37f6b24",
   "metadata": {},
   "outputs": [],
   "source": [
    "class MoreFourCal(FourCal):\n",
    "    def pow(self):\n",
    "        result = self.first ** self.second\n",
    "        return result\n",
    "    "
   ]
  },
  {
   "cell_type": "code",
   "execution_count": 40,
   "id": "def91637",
   "metadata": {},
   "outputs": [
    {
     "ename": "TypeError",
     "evalue": "MoreFourCal() takes no arguments",
     "output_type": "error",
     "traceback": [
      "\u001b[1;31m---------------------------------------------------------------------------\u001b[0m",
      "\u001b[1;31mTypeError\u001b[0m                                 Traceback (most recent call last)",
      "Cell \u001b[1;32mIn [40], line 1\u001b[0m\n\u001b[1;32m----> 1\u001b[0m a \u001b[38;5;241m=\u001b[39m MoreFourCal(\u001b[38;5;241m4\u001b[39m,\u001b[38;5;241m2\u001b[39m)\n",
      "\u001b[1;31mTypeError\u001b[0m: MoreFourCal() takes no arguments"
     ]
    }
   ],
   "source": [
    "a = MoreFourCal(4,2) "
   ]
  },
  {
   "cell_type": "markdown",
   "id": "a5b655f6",
   "metadata": {},
   "source": [
    "### 메서드 오버라이딩\n",
    "---\n",
    "<br>\n",
    "부모 클래스(상속한 클래스)에 있는 메서드를 동일한 이름으로 다시 만드는 것을 메서드 오버라이딩(Overriding, 덮어쓰기)이라고 한다."
   ]
  },
  {
   "cell_type": "code",
   "execution_count": 44,
   "id": "1239469a",
   "metadata": {},
   "outputs": [],
   "source": [
    "class SafeFourCal(FourCal):\n",
    "    def div(self):\n",
    "        if self.second == 0:\n",
    "            return 0\n",
    "        else:\n",
    "            return self.first / self.second\n"
   ]
  },
  {
   "cell_type": "code",
   "execution_count": 48,
   "id": "dca2370d",
   "metadata": {},
   "outputs": [
    {
     "ename": "TypeError",
     "evalue": "SafeFourCal() takes no arguments",
     "output_type": "error",
     "traceback": [
      "\u001b[1;31m---------------------------------------------------------------------------\u001b[0m",
      "\u001b[1;31mTypeError\u001b[0m                                 Traceback (most recent call last)",
      "Cell \u001b[1;32mIn [48], line 1\u001b[0m\n\u001b[1;32m----> 1\u001b[0m a \u001b[38;5;241m=\u001b[39m SafeFourCal(\u001b[38;5;241m4\u001b[39m,\u001b[38;5;241m0\u001b[39m)\n",
      "\u001b[1;31mTypeError\u001b[0m: SafeFourCal() takes no arguments"
     ]
    }
   ],
   "source": [
    "a = SafeFourCal(4,0)"
   ]
  },
  {
   "cell_type": "markdown",
   "id": "90b5947e",
   "metadata": {},
   "source": [
    "### 클래스 변수\n",
    "---"
   ]
  },
  {
   "cell_type": "code",
   "execution_count": 49,
   "id": "df753808",
   "metadata": {},
   "outputs": [],
   "source": [
    "class Family:\n",
    "    lastname = \"김\""
   ]
  },
  {
   "cell_type": "code",
   "execution_count": 52,
   "id": "b6595203",
   "metadata": {},
   "outputs": [
    {
     "name": "stdout",
     "output_type": "stream",
     "text": [
      "김\n"
     ]
    }
   ],
   "source": [
    "print(Family.lastname)"
   ]
  },
  {
   "cell_type": "code",
   "execution_count": 53,
   "id": "ed0475a3",
   "metadata": {},
   "outputs": [
    {
     "name": "stdout",
     "output_type": "stream",
     "text": [
      "김\n"
     ]
    }
   ],
   "source": [
    "#객체변수 (중요!)\n",
    "a=Family()\n",
    "print(a.lastname)"
   ]
  },
  {
   "cell_type": "code",
   "execution_count": 55,
   "id": "d0dc6b64",
   "metadata": {},
   "outputs": [
    {
     "name": "stdout",
     "output_type": "stream",
     "text": [
      "박\n"
     ]
    }
   ],
   "source": [
    "a.lastname=\"박\"\n",
    "print(a.lastname)"
   ]
  },
  {
   "cell_type": "markdown",
   "id": "aa80c749",
   "metadata": {},
   "source": [
    "## 5-2 모듈\n",
    "---"
   ]
  },
  {
   "cell_type": "code",
   "execution_count": 56,
   "id": "a08a45e6",
   "metadata": {},
   "outputs": [],
   "source": [
    "def add(a,b):\n",
    "    return a+b\n",
    "def sub(a,b):\n",
    "    return a-b"
   ]
  },
  {
   "cell_type": "code",
   "execution_count": 63,
   "id": "79d8bef4",
   "metadata": {},
   "outputs": [],
   "source": [
    "#실습"
   ]
  },
  {
   "cell_type": "markdown",
   "id": "faa821d3",
   "metadata": {},
   "source": [
    "\n",
    "### if __name__ == \"__main__\": 의 의미\n",
    "---\n"
   ]
  },
  {
   "cell_type": "code",
   "execution_count": 58,
   "id": "6a71e77d",
   "metadata": {},
   "outputs": [
    {
     "name": "stdout",
     "output_type": "stream",
     "text": [
      "5\n",
      "2\n"
     ]
    }
   ],
   "source": [
    "# mod1.py \n",
    "def add(a, b): \n",
    "    return a+b\n",
    "\n",
    "def sub(a, b): \n",
    "    return a-b\n",
    "\n",
    "print(add(1, 4))\n",
    "print(sub(4, 2))"
   ]
  },
  {
   "cell_type": "markdown",
   "id": "577d31eb",
   "metadata": {},
   "source": [
    "엉뚱하게도 import mod1을 수행하는 순간 mod1.py가 실행이 되어 결괏값을 출력한다. <br>우리는 단지 mod1.py 파일의 add와 sub 함수만 사용하려고 했는데 말이다.\n",
    "<br>\n",
    "<br>\n",
    "이러한 문제를 방지하려면 mod1.py 파일을 다음처럼 변경해야 한다."
   ]
  },
  {
   "cell_type": "code",
   "execution_count": 60,
   "id": "600a4acd",
   "metadata": {},
   "outputs": [
    {
     "name": "stdout",
     "output_type": "stream",
     "text": [
      "5\n",
      "2\n"
     ]
    }
   ],
   "source": [
    "# mod1.py 수정\n",
    "def add(a, b): \n",
    "    return a+b\n",
    "\n",
    "def sub(a, b): \n",
    "    return a-b\n",
    "\n",
    "if __name__ == \"__main__\":\n",
    "    print(add(1, 4))\n",
    "    print(sub(4, 2))"
   ]
  },
  {
   "cell_type": "markdown",
   "id": "45770ca6",
   "metadata": {},
   "source": [
    "if __name__ == \"__main__\"을 사용하면 C:\\doit>python mod1.py처럼 직접 이 파일을 실행했을 때는 __name__ == \"__main__\"이 참이 되어 if문 다음 문장이 수행된다. 반대로 대화형 인터프리터나 다른 파일에서 이 모듈을 불러서 사용할 때는 __name__ == \"__main__\"이 거짓이 되어 if문 다음 문장이 수행되지 않는다.\n",
    "<br>\n",
    "---"
   ]
  },
  {
   "cell_type": "markdown",
   "id": "536651c7",
   "metadata": {},
   "source": [
    "### 클래스나 변수 등을 포함한 모듈\n",
    "---"
   ]
  },
  {
   "cell_type": "code",
   "execution_count": 61,
   "id": "bdbb8a70",
   "metadata": {},
   "outputs": [],
   "source": [
    "# mod2.py \n",
    "PI = 3.141592\n",
    "\n",
    "class Math: \n",
    "    def solv(self, r): \n",
    "        return PI * (r ** 2) \n",
    "\n",
    "def add(a, b): \n",
    "    return a+b "
   ]
  },
  {
   "cell_type": "markdown",
   "id": "240c02df",
   "metadata": {},
   "source": [
    "import mod2\n",
    "<br>print(mod2.PI)\n",
    "<br>3.141592\n",
    "<br>위 예에서 볼 수 있듯이 mod2.PI처럼 입력해서 mod2.py 파일에 있는 PI 변수 값을 사용할 수 있다."
   ]
  },
  {
   "cell_type": "markdown",
   "id": "184bcfc1",
   "metadata": {},
   "source": [
    "----\n",
    "<br>a = mod2.Math()\n",
    "<br>print(a.solv(2))\n",
    "<br>12.566368"
   ]
  },
  {
   "cell_type": "markdown",
   "id": "a868292c",
   "metadata": {},
   "source": [
    "위 예는 mod2.py에 있는 Math 클래스를 사용하는 방법을 보여 준다. 위 예처럼 모듈 안에 있는 클래스를 사용하려면 \".\"(도트 연산자)로 클래스 이름 앞에 모듈 이름을 먼저 입력해야 한다.\n",
    "\n",
    "<br> print(mod2.add(mod2.PI, 4.4))\n",
    "<br> 7.541592\n",
    "<br>\n",
    "---"
   ]
  },
  {
   "cell_type": "markdown",
   "id": "0c11e300",
   "metadata": {},
   "source": [
    "## 5-3 패키지\n",
    "---"
   ]
  },
  {
   "cell_type": "markdown",
   "id": "89d4ac9e",
   "metadata": {},
   "source": [
    "패키지(Packages)는 도트(.)를 사용하여 파이썬 모듈을 계층적(디렉터리 구조)으로 관리할 수 있게 해준다. 예를 들어 모듈 이름이 A.B인 경우에 A는 패키지 이름이 되고 B는 A 패키지의 B모듈이 된다\n",
    "<br>\n",
    "※ 파이썬에서 모듈은 하나의 .py 파일이다."
   ]
  },
  {
   "cell_type": "markdown",
   "id": "28aea74c",
   "metadata": {},
   "source": [
    "간단한 파이썬 프로그램이 아니라면 이렇게 패키지 구조로 파이썬 프로그램을 만드는 것이 공동 작업이나 유지 보수 등 여러 면에서 유리하다. 또한 패키지 구조로 모듈을 만들면 다른 모듈과 이름이 겹치더라도 더 안전하게 사용할 수 있다."
   ]
  },
  {
   "cell_type": "markdown",
   "id": "8d633b36",
   "metadata": {},
   "source": [
    "#### 1. 첫 번째는 sayhello 모듈을 import하여 실행하는 방법으로, 다음과 같이 실행한다.\n",
    "\n",
    "<br>\n",
    "※ sayhello 모듈은 sayhello.py 파일이다. hello를 출력하는 기능이 있는 함수라고 가정하자.\n",
    "\n",
    "```python\n",
    "import game.sound.sayhello\n",
    "game.sound.sayhello.sayhello_test()\n",
    "```\n",
    "실행결과 : hello\n",
    "<br>\n",
    "<br>\n",
    "\n",
    "#### 2. 두 번째는 sayhello 모듈이 있는 디렉터리까지를 from ... import하여 실행하는 방법이다.\n",
    "\n",
    "```python\n",
    "from game.sound import sayhello\n",
    "sayhello.sayhello_test()\n",
    "```\n",
    "실행결과 : hello\n",
    "<br>\n",
    "<br>\n",
    "\n",
    "#### 3. 세 번째는 sayhello 모듈의 echo_test 함수를 직접 import하여 실행하는 방법이다.\n",
    "\n",
    "```python\n",
    "from game.sound.sayhello import sayhello_test\n",
    "sayhello_test()\n",
    "```\n",
    "실행결과 : hello\n",
    "<br>\n",
    "<br>\n",
    "#### 불가능한 경우\n",
    "```python\n",
    "import game\n",
    "game.sound.sayhello.sayhello_test()\n",
    "```\n",
    "AttributeError 가 발생\n",
    "<br>\n",
    "---"
   ]
  },
  {
   "cell_type": "markdown",
   "id": "c3754ade",
   "metadata": {},
   "source": [
    "## 05-4 예외 처리\n",
    "---"
   ]
  },
  {
   "cell_type": "code",
   "execution_count": 67,
   "id": "c3ab903f",
   "metadata": {},
   "outputs": [
    {
     "ename": "ZeroDivisionError",
     "evalue": "division by zero",
     "output_type": "error",
     "traceback": [
      "\u001b[1;31m---------------------------------------------------------------------------\u001b[0m",
      "\u001b[1;31mZeroDivisionError\u001b[0m                         Traceback (most recent call last)",
      "Cell \u001b[1;32mIn [67], line 2\u001b[0m\n\u001b[0;32m      1\u001b[0m \u001b[38;5;66;03m#Zero Division Error\u001b[39;00m\n\u001b[1;32m----> 2\u001b[0m \u001b[38;5;241m4\u001b[39m\u001b[38;5;241m/\u001b[39m\u001b[38;5;241m0\u001b[39m\n",
      "\u001b[1;31mZeroDivisionError\u001b[0m: division by zero"
     ]
    }
   ],
   "source": [
    "#Zero Division Error\n",
    "4/0"
   ]
  },
  {
   "cell_type": "code",
   "execution_count": 66,
   "id": "2c0d6714",
   "metadata": {},
   "outputs": [
    {
     "ename": "IndexError",
     "evalue": "list index out of range",
     "output_type": "error",
     "traceback": [
      "\u001b[1;31m---------------------------------------------------------------------------\u001b[0m",
      "\u001b[1;31mIndexError\u001b[0m                                Traceback (most recent call last)",
      "Cell \u001b[1;32mIn [66], line 2\u001b[0m\n\u001b[0;32m      1\u001b[0m a\u001b[38;5;241m=\u001b[39m[\u001b[38;5;241m1\u001b[39m,\u001b[38;5;241m2\u001b[39m,\u001b[38;5;241m3\u001b[39m]\n\u001b[1;32m----> 2\u001b[0m a[\u001b[38;5;241m4\u001b[39m]\n",
      "\u001b[1;31mIndexError\u001b[0m: list index out of range"
     ]
    }
   ],
   "source": [
    "#Index Error\n",
    "a=[1,2,3]\n",
    "a[4]"
   ]
  },
  {
   "cell_type": "code",
   "execution_count": 68,
   "id": "cd249c11",
   "metadata": {},
   "outputs": [
    {
     "name": "stdout",
     "output_type": "stream",
     "text": [
      "division by zero\n"
     ]
    }
   ],
   "source": [
    "try:\n",
    "    4/0\n",
    "except ZeroDivisionError as e:\n",
    "    print(e)"
   ]
  },
  {
   "cell_type": "code",
   "execution_count": 74,
   "id": "9ab0a007",
   "metadata": {},
   "outputs": [
    {
     "name": "stdout",
     "output_type": "stream",
     "text": [
      "list index out of range\n"
     ]
    }
   ],
   "source": [
    "try:\n",
    "    a=[1,2,3]\n",
    "    a[4]\n",
    "except IndexError as e:\n",
    "    print(e)"
   ]
  },
  {
   "cell_type": "code",
   "execution_count": 75,
   "id": "1df67ef6",
   "metadata": {},
   "outputs": [
    {
     "name": "stdout",
     "output_type": "stream",
     "text": [
      "인덱싱 할 수 없습니다.\n"
     ]
    }
   ],
   "source": [
    "#except 2개 동시에는 안됨.\n",
    "try:\n",
    "    a = [1,2]\n",
    "    print(a[3])\n",
    "    4/0\n",
    "except ZeroDivisionError:\n",
    "    print(\"0으로 나눌 수 없습니다.\")\n",
    "except IndexError:\n",
    "    print(\"인덱싱 할 수 없습니다.\")"
   ]
  },
  {
   "cell_type": "markdown",
   "id": "62290952",
   "metadata": {},
   "source": [
    "<span style = \"background-color:#FFFD91; color:#FE5B05;\">동시에 할 수 있는 방법은 없는걸까?</span>"
   ]
  },
  {
   "cell_type": "code",
   "execution_count": 79,
   "id": "97665ec9",
   "metadata": {},
   "outputs": [
    {
     "name": "stdout",
     "output_type": "stream",
     "text": [
      "list index out of range\n"
     ]
    }
   ],
   "source": [
    "# 이 경우도\n",
    "try:\n",
    "    a=[1,2]\n",
    "    print(a[3])\n",
    "    4/0\n",
    "except (ZeroDivisionError, IndexError) as e:\n",
    "    print(e)"
   ]
  },
  {
   "cell_type": "code",
   "execution_count": 83,
   "id": "a3384244",
   "metadata": {},
   "outputs": [
    {
     "name": "stdout",
     "output_type": "stream",
     "text": [
      "나이를 입력하세요: 19\n",
      "환영합니다.\n"
     ]
    }
   ],
   "source": [
    "#try문에 else 절 사용하기\n",
    "try:\n",
    "    age=int(input('나이를 입력하세요: '))\n",
    "except:\n",
    "    print('입력이 정확하지 않습니다.')\n",
    "\n",
    "#오류가 없을 경우에만 수행!\n",
    "else: \n",
    "    if age <= 18:\n",
    "        print('미성년자는 출입금지입니다.')\n",
    "    else:\n",
    "        print('환영합니다.')"
   ]
  },
  {
   "cell_type": "code",
   "execution_count": 84,
   "id": "a41d04fc",
   "metadata": {},
   "outputs": [],
   "source": [
    "#오류 일부러 발생시키기\n",
    "class Bird:\n",
    "    def fly(self):\n",
    "        raise NotImplementedError"
   ]
  },
  {
   "cell_type": "code",
   "execution_count": 85,
   "id": "f124b3d3",
   "metadata": {},
   "outputs": [
    {
     "name": "stdout",
     "output_type": "stream",
     "text": [
      "very fast\n"
     ]
    }
   ],
   "source": [
    "class Eagle(Bird):\n",
    "    def fly(self):\n",
    "        print(\"very fast\")\n",
    "\n",
    "eagle = Eagle()\n",
    "eagle.fly()"
   ]
  }
 ],
 "metadata": {
  "kernelspec": {
   "display_name": "Python 3 (ipykernel)",
   "language": "python",
   "name": "python3"
  },
  "language_info": {
   "codemirror_mode": {
    "name": "ipython",
    "version": 3
   },
   "file_extension": ".py",
   "mimetype": "text/x-python",
   "name": "python",
   "nbconvert_exporter": "python",
   "pygments_lexer": "ipython3",
   "version": "3.9.11"
  }
 },
 "nbformat": 4,
 "nbformat_minor": 5
}
